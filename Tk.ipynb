{
 "cells": [
  {
   "cell_type": "code",
   "execution_count": 1,
   "metadata": {},
   "outputs": [],
   "source": [
    "#2020/2/10 杨树澄\n",
    "#单独把tk拿出来测试一下函数好用不"
   ]
  },
  {
   "cell_type": "code",
   "execution_count": 13,
   "metadata": {},
   "outputs": [
    {
     "name": "stdout",
     "output_type": "stream",
     "text": [
      "[0, 12, 22, 31]\n",
      "time.struct_time(tm_year=2020, tm_mon=3, tm_mday=11, tm_hour=22, tm_min=13, tm_sec=33, tm_wday=2, tm_yday=71, tm_isdst=0)\n",
      "2020\n"
     ]
    }
   ],
   "source": [
    "import re\n",
    "import time \n",
    "word = \"test\"\n",
    "s = \"test abcdas test 1234 testcase testsuite\"\n",
    "w = [m.start() for m in re.finditer(\"test\", s)]\n",
    "print(w)\n",
    "print (time.localtime( time.time() ))\n",
    "time=time.localtime( time.time() )\n",
    "print(time.tm_year)"
   ]
  },
  {
   "cell_type": "code",
   "execution_count": 1,
   "metadata": {},
   "outputs": [
    {
     "name": "stdout",
     "output_type": "stream",
     "text": [
      "还没想好怎么写 留着当抬头吧\n",
      "[['fa_a'], [[[1, 'AI', 'BI', 'CI', 'TI']]], [[[1, 'CO', 'SO'], [16, 'AO', 'BO']]], [[<SFQ_lib.jtl2j_a object at 0x000001CDDC6515C0>, <SFQ_lib.jtl2j_a object at 0x000001CDDC6516A0>, <SFQ_lib.jtl2j_a object at 0x000001CDDC651780>, <SFQ_lib.jtl2j_a object at 0x000001CDDC651860>, <SFQ_lib.jtl2j_a object at 0x000001CDDC651940>, <SFQ_lib.jtl2j_a object at 0x000001CDDC651A20>, <SFQ_lib.jtl2j_a object at 0x000001CDDC651B00>, <SFQ_lib.jtl2j_a object at 0x000001CDDC651BE0>, <SFQ_lib.jtl2j_a object at 0x000001CDDC651CC0>, <SFQ_lib.jtl2j_a object at 0x000001CDDC651DA0>, <SFQ_lib.jtl2j_a object at 0x000001CDDC651E80>, <SFQ_lib.jtl2j_a object at 0x000001CDDC651F60>, <SFQ_lib.jtl2j_a object at 0x000001CDDC65E080>, <SFQ_lib.jtl2j_a object at 0x000001CDDC65E160>, <SFQ_lib.jtl2j_a object at 0x000001CDDC65E240>, <SFQ_lib.jtl2j_a object at 0x000001CDDC65E320>, <SFQ_lib.jtl2j_a object at 0x000001CDDC65E400>, <SFQ_lib.jtl2j_a object at 0x000001CDDC65E4E0>, <SFQ_lib.jtl2j_a object at 0x000001CDDC65E5C0>, <SFQ_lib.jtl2j_a object at 0x000001CDDC65E6A0>, <SFQ_lib.jtl2j_a object at 0x000001CDDC65E780>, <SFQ_lib.jtl2j_a object at 0x000001CDDC65E860>, <SFQ_lib.jtl2j_a object at 0x000001CDDC65E940>, <SFQ_lib.jtl2j_a object at 0x000001CDDC65EA20>, <SFQ_lib.s2j2o_b object at 0x000001CDDC65EB70>, <SFQ_lib.s2j2o_b object at 0x000001CDDC65EC88>, <SFQ_lib.s2j2o_b object at 0x000001CDDC65EDA0>, <SFQ_lib.s2j2o_b object at 0x000001CDDC65EEB8>, <SFQ_lib.s2j3o_a object at 0x000001CDDC65EFD0>, <SFQ_lib.jtl2j_a object at 0x000001CDDC65F080>, <SFQ_lib.jtl2j_a object at 0x000001CDDC65F160>, <SFQ_lib.xor_b object at 0x000001CDDC65F320>, <SFQ_lib.and_e object at 0x000001CDDC65F470>, <SFQ_lib.and_e object at 0x000001CDDC65F5C0>, <SFQ_lib.jandf_a object at 0x000001CDDC65F710>, <SFQ_lib.jtl1j_a object at 0x000001CDDC65F780>, <SFQ_lib.jtl1j_a object at 0x000001CDDC65F860>, <SFQ_lib.jtl1j_a object at 0x000001CDDC65F940>, <SFQ_lib.jtl_crs22 object at 0x000001CDDC65FA90>, <SFQ_lib.d22_a object at 0x000001CDDC65FBA8>, <SFQ_lib.jtl_crs22 object at 0x000001CDDC65FCF8>, <SFQ_lib.jtl_crs22 object at 0x000001CDDC65FE48>, <SFQ_lib.jtl_crs22 object at 0x000001CDDC65FF98>, <SFQ_lib.jtl_crs22 object at 0x000001CDDC6620F0>, <SFQ_lib.jtl_crs22 object at 0x000001CDDC662208>, <SFQ_lib.jtl_crs22 object at 0x000001CDDC662320>, <SFQ_lib.jtl4j_a object at 0x000001CDDC6623C8>, <SFQ_lib.jtl2j_a object at 0x000001CDDC6624A8>, <SFQ_lib.jtl2j_a object at 0x000001CDDC662588>, <SFQ_lib.jtl2j_a object at 0x000001CDDC662668>, <SFQ_lib.jtl2j_a object at 0x000001CDDC662748>, <SFQ_lib.jtl2j_a object at 0x000001CDDC662828>, <SFQ_lib.jtl2j_a object at 0x000001CDDC662908>, <SFQ_lib.jtl2j_a object at 0x000001CDDC6629E8>, <SFQ_lib.jtl2j_a object at 0x000001CDDC662AC8>, <SFQ_lib.jtl2j_a object at 0x000001CDDC662BA8>, <SFQ_lib.jtl2j_a object at 0x000001CDDC662C88>, <SFQ_lib.jtl2j_a object at 0x000001CDDC662D68>, <SFQ_lib.jtl2j_a object at 0x000001CDDC662E48>, <SFQ_lib.jtl2j_a object at 0x000001CDDC662F28>, <SFQ_lib.s2j2o_b object at 0x000001CDDC6640B8>, <SFQ_lib.s2j2o_b object at 0x000001CDDC6641D0>, <SFQ_lib.d22_a object at 0x000001CDDC6642E8>, <SFQ_lib.jtl1j_a object at 0x000001CDDC664390>, <SFQ_lib.jtl1j_a object at 0x000001CDDC664470>, <SFQ_lib.s2j2o_b object at 0x000001CDDC6645C0>, <SFQ_lib.jtl4j_a object at 0x000001CDDC664668>, <SFQ_lib.cb_a object at 0x000001CDDC6647B8>, <SFQ_lib.xor_b object at 0x000001CDDC664940>, <SFQ_lib.jtl2j_a object at 0x000001CDDC6649B0>, <SFQ_lib.jtl2j_a object at 0x000001CDDC664A90>]]]\n"
     ]
    }
   ],
   "source": [
    "# coding=gbk\n",
    "#网表地址获取-对话框\n",
    "from tkinter import *\n",
    "import tkinter.filedialog\n",
    "from netlist_read import *\n",
    "root = Tk()\n",
    "root.geometry('400x100')\n",
    "#t = tkinter.Text(root,height=2)\n",
    "#t.place(x=10,y=10,anchor='nw')\n",
    "#t.pack()\n",
    "def select():\n",
    "    filename = tkinter.filedialog.askopenfilename()\n",
    "    if filename != '':\n",
    "        #t.insert('end',filename)#这里有个插入bug\n",
    "        lb.config(text = \"file path：\"+filename, bg=\"white\",width=70, height=2);\n",
    "        #print(read_netlist(filename))\n",
    "        #print(filename) #for test\n",
    "    else:\n",
    "        #t.insert('end','No such file')\n",
    "        lb.config(text = \"No file selected\", bg=\"white\",width=15, height=2);\n",
    "lb = Label(root,text = '',height=1)\n",
    "lb.pack()\n",
    "\n",
    "fm1 = Frame(root)\n",
    "btn = Button(fm1,text=\"Select File\",command=select)\n",
    "btn.pack(side=LEFT)\n",
    "btn2 = Button(fm1,text=\"Analyze\",command=None)\n",
    "btn2.pack(side=LEFT)\n",
    "fm1.pack()\n",
    "root.mainloop()\n",
    "test=\"FA.v\"\n",
    "print(read_netlist(test))"
   ]
  },
  {
   "cell_type": "code",
   "execution_count": null,
   "metadata": {},
   "outputs": [],
   "source": []
  }
 ],
 "metadata": {
  "kernelspec": {
   "display_name": "Python 3",
   "language": "python",
   "name": "python3"
  },
  "language_info": {
   "codemirror_mode": {
    "name": "ipython",
    "version": 3
   },
   "file_extension": ".py",
   "mimetype": "text/x-python",
   "name": "python",
   "nbconvert_exporter": "python",
   "pygments_lexer": "ipython3",
   "version": "3.7.3"
  }
 },
 "nbformat": 4,
 "nbformat_minor": 2
}

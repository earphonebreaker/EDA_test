{
 "cells": [
  {
   "cell_type": "code",
   "execution_count": 1,
   "metadata": {},
   "outputs": [],
   "source": [
    "#2020/2/10 杨树澄\n",
    "#单独把tk拿出来测试一下函数好用不"
   ]
  },
  {
   "cell_type": "code",
   "execution_count": 13,
   "metadata": {},
   "outputs": [
    {
     "name": "stdout",
     "output_type": "stream",
     "text": [
      "[0, 12, 22, 31]\n",
      "time.struct_time(tm_year=2020, tm_mon=3, tm_mday=11, tm_hour=22, tm_min=13, tm_sec=33, tm_wday=2, tm_yday=71, tm_isdst=0)\n",
      "2020\n"
     ]
    }
   ],
   "source": [
    "import re\n",
    "import time \n",
    "word = \"test\"\n",
    "s = \"test abcdas test 1234 testcase testsuite\"\n",
    "w = [m.start() for m in re.finditer(\"test\", s)]\n",
    "print(w)\n",
    "print (time.localtime( time.time() ))\n",
    "time=time.localtime( time.time() )\n",
    "print(time.tm_year)"
   ]
  },
  {
   "cell_type": "code",
   "execution_count": 12,
   "metadata": {},
   "outputs": [
    {
     "name": "stdout",
     "output_type": "stream",
     "text": [
      "[['fa_a', 'fb_b'], [[[1, 'AI', 'BI', 'CI', 'TI']], [[1, 'CO', 'SO']]], [[[1, 'CO', 'SO'], [16, 'AO', 'BO']], [[1, 'CO', 'SO']]], [[<SFQ_lib.jtl2j_a object at 0x0000023CD354FE80>, <SFQ_lib.jtl2j_a object at 0x0000023CD354F7F0>, <SFQ_lib.jtl2j_a object at 0x0000023CD354F940>, <SFQ_lib.jtl2j_a object at 0x0000023CD354FAC8>, <SFQ_lib.jtl2j_a object at 0x0000023CD354FF28>, <SFQ_lib.jtl2j_a object at 0x0000023CD354FCF8>, <SFQ_lib.jtl2j_a object at 0x0000023CD354F630>, <SFQ_lib.jtl2j_a object at 0x0000023CD354F438>, <SFQ_lib.jtl2j_a object at 0x0000023CD354F5C0>, <SFQ_lib.jtl2j_a object at 0x0000023CD354F080>, <SFQ_lib.jtl2j_a object at 0x0000023CD354F048>, <SFQ_lib.jtl2j_a object at 0x0000023CD383AEF0>, <SFQ_lib.jtl2j_a object at 0x0000023CD383AFD0>, <SFQ_lib.jtl2j_a object at 0x0000023CD3843208>, <SFQ_lib.jtl2j_a object at 0x0000023CD3843588>, <SFQ_lib.jtl2j_a object at 0x0000023CD3843550>, <SFQ_lib.jtl2j_a object at 0x0000023CD38434E0>, <SFQ_lib.jtl2j_a object at 0x0000023CD38435C0>, <SFQ_lib.jtl2j_a object at 0x0000023CD3843908>, <SFQ_lib.jtl2j_a object at 0x0000023CD3843A90>, <SFQ_lib.jtl2j_a object at 0x0000023CD3843860>, <SFQ_lib.jtl2j_a object at 0x0000023CD3843C50>, <SFQ_lib.jtl2j_a object at 0x0000023CD3843C88>, <SFQ_lib.jtl2j_a object at 0x0000023CD3843A20>, <SFQ_lib.s2j2o_b object at 0x0000023CD3843BE0>, <SFQ_lib.s2j2o_b object at 0x0000023CD3843F28>, <SFQ_lib.s2j2o_b object at 0x0000023CD3843EB8>, <SFQ_lib.s2j2o_b object at 0x0000023CD38432E8>, <SFQ_lib.s2j3o_a object at 0x0000023CD3853198>, <SFQ_lib.jtl2j_a object at 0x0000023CD3853208>, <SFQ_lib.jtl2j_a object at 0x0000023CD38532E8>, <SFQ_lib.xor_b object at 0x0000023CD38534A8>, <SFQ_lib.and_e object at 0x0000023CD38535F8>, <SFQ_lib.and_e object at 0x0000023CD3853710>, <SFQ_lib.jandf_a object at 0x0000023CD3853860>, <SFQ_lib.jtl1j_a object at 0x0000023CD38538D0>, <SFQ_lib.jtl1j_a object at 0x0000023CD38539B0>, <SFQ_lib.jtl1j_a object at 0x0000023CD3853A90>, <SFQ_lib.jtl_crs22 object at 0x0000023CD3853BE0>, <SFQ_lib.d22_a object at 0x0000023CD3853CF8>, <SFQ_lib.jtl_crs22 object at 0x0000023CD3853E48>, <SFQ_lib.jtl_crs22 object at 0x0000023CD3853F98>, <SFQ_lib.jtl_crs22 object at 0x0000023CD3841128>, <SFQ_lib.jtl_crs22 object at 0x0000023CD3841240>, <SFQ_lib.jtl_crs22 object at 0x0000023CD3841358>, <SFQ_lib.jtl_crs22 object at 0x0000023CD3841470>, <SFQ_lib.jtl4j_a object at 0x0000023CD3841518>, <SFQ_lib.jtl2j_a object at 0x0000023CD38415F8>, <SFQ_lib.jtl2j_a object at 0x0000023CD38416D8>, <SFQ_lib.jtl2j_a object at 0x0000023CD38417B8>, <SFQ_lib.jtl2j_a object at 0x0000023CD3841898>, <SFQ_lib.jtl2j_a object at 0x0000023CD3841978>, <SFQ_lib.jtl2j_a object at 0x0000023CD3841A58>, <SFQ_lib.jtl2j_a object at 0x0000023CD3841B38>, <SFQ_lib.jtl2j_a object at 0x0000023CD3841C18>, <SFQ_lib.jtl2j_a object at 0x0000023CD3841CF8>, <SFQ_lib.jtl2j_a object at 0x0000023CD3841DD8>, <SFQ_lib.jtl2j_a object at 0x0000023CD3841EB8>, <SFQ_lib.jtl2j_a object at 0x0000023CD3841F98>, <SFQ_lib.jtl2j_a object at 0x0000023CD38450B8>, <SFQ_lib.s2j2o_b object at 0x0000023CD3845208>, <SFQ_lib.s2j2o_b object at 0x0000023CD3845320>, <SFQ_lib.d22_a object at 0x0000023CD3845438>, <SFQ_lib.jtl1j_a object at 0x0000023CD38454E0>, <SFQ_lib.jtl1j_a object at 0x0000023CD38455C0>, <SFQ_lib.s2j2o_b object at 0x0000023CD3845710>, <SFQ_lib.jtl4j_a object at 0x0000023CD38457B8>, <SFQ_lib.cb_a object at 0x0000023CD3845908>, <SFQ_lib.xor_b object at 0x0000023CD3845A90>, <SFQ_lib.jtl2j_a object at 0x0000023CD3845B00>, <SFQ_lib.jtl2j_a object at 0x0000023CD3845BE0>], [<SFQ_lib.and_e object at 0x0000023CD3845E80>, <SFQ_lib.jandf_a object at 0x0000023CD3845FD0>, <SFQ_lib.jtl_crs22 object at 0x0000023CD38330F0>, <SFQ_lib.d22_a object at 0x0000023CD3833208>, <SFQ_lib.jtl_crs22 object at 0x0000023CD3833358>]]]\n"
     ]
    }
   ],
   "source": [
    "# coding=gbk\n",
    "#网表地址获取-对话框\n",
    "from tkinter import *\n",
    "import tkinter.filedialog\n",
    "from netlist_read import *\n",
    "root = Tk()\n",
    "root.geometry('400x100')\n",
    "#t = tkinter.Text(root,height=2)\n",
    "#t.place(x=10,y=10,anchor='nw')\n",
    "#t.pack()\n",
    "def select():\n",
    "    filename = tkinter.filedialog.askopenfilename()\n",
    "    if filename != '':\n",
    "        #t.insert('end',filename)#这里有个插入bug\n",
    "        lb.config(text = \"file path：\"+filename, bg=\"white\",width=70, height=2);\n",
    "        #print(read_netlist(filename))\n",
    "        #print(filename) #for test\n",
    "    else:\n",
    "        #t.insert('end','No such file')\n",
    "        lb.config(text = \"No file selected\", bg=\"white\",width=15, height=2);\n",
    "lb = Label(root,text = '',height=1)\n",
    "lb.pack()\n",
    "\n",
    "fm1 = Frame(root)\n",
    "btn = Button(fm1,text=\"Select File\",command=select)\n",
    "btn.pack(side=LEFT)\n",
    "btn2 = Button(fm1,text=\"Analyze\",command=None)\n",
    "btn2.pack(side=LEFT)\n",
    "fm1.pack()\n",
    "root.mainloop()\n",
    "test=\"FA.v\"\n",
    "print(read_netlist(test))"
   ]
  },
  {
   "cell_type": "code",
   "execution_count": null,
   "metadata": {},
   "outputs": [],
   "source": []
  }
 ],
 "metadata": {
  "kernelspec": {
   "display_name": "Python 3",
   "language": "python",
   "name": "python3"
  },
  "language_info": {
   "codemirror_mode": {
    "name": "ipython",
    "version": 3
   },
   "file_extension": ".py",
   "mimetype": "text/x-python",
   "name": "python",
   "nbconvert_exporter": "python",
   "pygments_lexer": "ipython3",
   "version": "3.7.3"
  }
 },
 "nbformat": 4,
 "nbformat_minor": 2
}

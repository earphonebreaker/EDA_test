{
 "cells": [
  {
   "cell_type": "code",
   "execution_count": 27,
   "metadata": {},
   "outputs": [],
   "source": [
    "#2020/2/27 杨树澄\n",
    "#整合测试文件"
   ]
  },
  {
   "cell_type": "code",
   "execution_count": 28,
   "metadata": {},
   "outputs": [],
   "source": [
    "import time\n",
    "from SFQ_lib import *\n",
    "from Astar_lib import *\n",
    "from Layout_lib import *\n",
    "from Netlist_lib import *"
   ]
  },
  {
   "cell_type": "code",
   "execution_count": 29,
   "metadata": {},
   "outputs": [
    {
     "name": "stdout",
     "output_type": "stream",
     "text": [
      "[['auto_route'], [[[1, 'AI1', 'AI2', 'BI', 'TI1', 'TI2']]], [[[1, 'ABO']]], [[<SFQ_lib.and_e object at 0x000002771AD89828>, <SFQ_lib.cb_a object at 0x0000027718FEE208>, <SFQ_lib.d22_a object at 0x000002771AE887F0>]]]\n"
     ]
    }
   ],
   "source": [
    "#读网表信息\n",
    "File_dir=\"whatever.v\"#这里的网表路径，要从skill中获得\n",
    "netlist_test=read_netlist(File_dir)\n",
    "print(netlist_test)"
   ]
  },
  {
   "cell_type": "code",
   "execution_count": 30,
   "metadata": {},
   "outputs": [
    {
     "name": "stdout",
     "output_type": "stream",
     "text": [
      "{'wireABO_net14': 'I1', 'wireAI_AI2': 'I1', 'wireBI_BI': 'I1', 'wireTI_TI2': 'I1', 'wireABO_ABO': 'I3', 'wireAI_net13': 'I3', 'wireBI_net14': 'I3', 'wireAI_AI1': 'I2', 'wireTI_TI1': 'I2', 'wireTO_net13': 'I2'}\n"
     ]
    }
   ],
   "source": [
    "#网表第一个module转dictionary\n",
    "dict_info=inmod_inst_to_wire(netlist_test[3][0])\n",
    "print(dict_info)"
   ]
  },
  {
   "cell_type": "code",
   "execution_count": 31,
   "metadata": {},
   "outputs": [
    {
     "name": "stdout",
     "output_type": "stream",
     "text": [
      "['I3,wireAI,I2,wireTO', 'I3,wireBI,I1,wireABO']\n"
     ]
    }
   ],
   "source": [
    "#查找互联\n",
    "connection=read_connection(netlist_test,dict_info)\n",
    "print(connection)"
   ]
  },
  {
   "cell_type": "code",
   "execution_count": 32,
   "metadata": {},
   "outputs": [
    {
     "name": "stdout",
     "output_type": "stream",
     "text": [
      "[['I3', 'wireAI', 'I2', 'wireTO'], ['I3', 'wireBI', 'I1', 'wireABO']]\n"
     ]
    }
   ],
   "source": [
    "#处理互联信息\n",
    "connection_info=connect_info_process(connection)\n",
    "print(connection_info)"
   ]
  },
  {
   "cell_type": "code",
   "execution_count": 33,
   "metadata": {},
   "outputs": [
    {
     "name": "stdout",
     "output_type": "stream",
     "text": [
      "[<SFQ_lib.and_e object at 0x000002771AE885C0>, <SFQ_lib.d22_a object at 0x000002771AEA1860>, <SFQ_lib.cb_a object at 0x000002771AEA1898>]\n"
     ]
    }
   ],
   "source": [
    "#读layout信息\n",
    "file_list=[\"routing_name.txt\",\"routing_orient.txt\",\"routing_bbox.txt\", \"routing_xy.txt\",\"routing_inst.txt\"]\n",
    "layout_info=layout_info_summary(file_list)\n",
    "print(layout_info)"
   ]
  },
  {
   "cell_type": "code",
   "execution_count": 34,
   "metadata": {},
   "outputs": [
    {
     "name": "stdout",
     "output_type": "stream",
     "text": [
      "[['and_e_3x3_ai1ti2bi3abo8', 'd22_a_2x2_ai1ti3to5', 'cb_a_2x2_ai1bi2abo5'], ['MYR90', 'R0', 'MX'], [[-180, -90, -90, 0], [-60, 120, 0, 180], [270, 90, 330, 150]], [[-90, 0], [-60, 120], [270, 150]], ['I1', 'I2', 'I3']]\n"
     ]
    }
   ],
   "source": [
    "#读layout信息写入list\n",
    "list_layout_info=read_layout(file_list)\n",
    "print(list_layout_info)"
   ]
  },
  {
   "cell_type": "code",
   "execution_count": 35,
   "metadata": {},
   "outputs": [
    {
     "name": "stdout",
     "output_type": "stream",
     "text": [
      "{'I1': {'wireAI': 1, 'area': [3, 3], 'orient': 'MYR90', 'origin': [-90, 0], 'wireTI': 2, 'wireBI': 3, 'wireABO': 8}, 'I2': {'wireAI': 1, 'area': [2, 2], 'orient': 'R0', 'origin': [-60, 120], 'wireTI': 3, 'wireTO': 5}, 'I3': {'wireAI': 1, 'area': [2, 2], 'orient': 'MX', 'origin': [270, 150], 'wireBI': 2, 'wireABO': 5}}\n"
     ]
    }
   ],
   "source": [
    "#读layout信息写入dictionary\n",
    "dict_layout=layout_to_dict(layout_info)\n",
    "print(dict_layout)"
   ]
  },
  {
   "cell_type": "code",
   "execution_count": 36,
   "metadata": {},
   "outputs": [
    {
     "name": "stdout",
     "output_type": "stream",
     "text": [
      "[[[[270, 105], 1], [[0, 135], 3]], [[[270, 135], 1], [[-135, -90], 2]]]\n"
     ]
    }
   ],
   "source": [
    "#获取connection信息对应的，两个inst的坐标和index\n",
    "coord_info=get_route_coord(connection_info,dict_layout)\n",
    "print(coord_info)"
   ]
  },
  {
   "cell_type": "code",
   "execution_count": 37,
   "metadata": {},
   "outputs": [
    {
     "name": "stdout",
     "output_type": "stream",
     "text": [
      "330 -180\n",
      "180 -90\n"
     ]
    }
   ],
   "source": [
    "#获取版图的最大上下值 来自list_layout_info\n",
    "\n",
    "x_0=[x[0] for x in list_layout_info[2]]\n",
    "x_2=[x[2] for x in list_layout_info[2]]\n",
    "y_1=[y[1] for y in list_layout_info[2]]\n",
    "y_3=[y[3] for y in list_layout_info[2]]\n",
    "x_max=max([max(x_0),max(x_2)])\n",
    "y_max=max([max(y_1),max(y_3)])\n",
    "x_min=min([min(x_0),min(x_2)])\n",
    "y_min=min([min(y_1),min(y_3)])\n",
    "print(x_max,x_min)\n",
    "print(y_max,y_min)"
   ]
  },
  {
   "cell_type": "code",
   "execution_count": 38,
   "metadata": {},
   "outputs": [
    {
     "name": "stdout",
     "output_type": "stream",
     "text": [
      "21 13\n",
      "[-180, -90]\n",
      "[-8, -5]\n"
     ]
    }
   ],
   "source": [
    "#设置寻路的地图大小\n",
    "width=int((x_max-x_min)/30+4)\n",
    "height=int((y_max-y_min)/30+4)\n",
    "origin=[x_min,y_min]\n",
    "print(width,height)\n",
    "print(origin)\n",
    "map_origin=[int(x_min/30-2),int(y_min/30-2)]#获得一个原点为00的，map相对于layout的坐标（这里2和上面的4以后要调整）\n",
    "print(map_origin)"
   ]
  },
  {
   "cell_type": "code",
   "execution_count": 40,
   "metadata": {},
   "outputs": [
    {
     "name": "stdout",
     "output_type": "stream",
     "text": [
      "[8, 3]\n",
      "[16, 8]\n",
      "[0, 4]\n",
      "[8, 9]\n",
      "[[8, 9], [8, 8], [9, 8], [10, 8], [11, 8], [12, 8], [13, 8], [14, 8], [15, 8], [16, 8]]\n",
      "+++++++++++++++++++++++++++++++++++++++++++++++++++++++++++++++++\n",
      "+ 0  0  0  0  0  0  0  0  0  0  0  0  0  0  0  0  0  0  0  0  0 +\n",
      "+ 0  0  0  0  0  0  0  0  0  0  0  0  0  0  0  0  0  0  0  0  0 +\n",
      "+ 0  0  0  0  0  0  1  1  0  0  0  0  0  0  0  0  0  0  0  0  0 +\n",
      "+ 0  0  0  0  0  0  1  1  2  0  0  0  0  0  0  0  0  1  1  0  0 +\n",
      "+ 0  0  0  0  0  0  0  0  2  2  2  2  2  2  2  2  2  1  1  0  0 +\n",
      "+ 0  0  0  0  0  0  0  0  0  0  0  0  0  0  0  0  0  0  0  0  0 +\n",
      "+ 0  0  0  0  0  0  0  0  0  0  0  0  0  0  0  0  0  0  0  0  0 +\n",
      "+ 0  0  0  0  0  0  0  0  0  0  0  0  0  0  0  0  0  0  0  0  0 +\n",
      "+ 0  0  1  1  1  0  0  0  0  0  0  0  0  0  0  0  0  0  0  0  0 +\n",
      "+ 0  0  1  1  1  0  0  0  0  0  0  0  0  0  0  0  0  0  0  0  0 +\n",
      "+ 0  0  1  1  1  0  0  0  0  0  0  0  0  0  0  0  0  0  0  0  0 +\n",
      "+ 0  0  0  0  0  0  0  0  0  0  0  0  0  0  0  0  0  0  0  0  0 +\n",
      "+ 0  0  0  0  0  0  0  0  0  0  0  0  0  0  0  0  0  0  0  0  0 +\n",
      "+++++++++++++++++++++++++++++++++++++++++++++++++++++++++++++++++\n",
      "[[0, 4], [0, 3], [1, 3], [2, 3], [3, 3], [4, 3], [5, 3], [6, 3], [7, 3], [8, 3]]\n",
      "[8, 4]\n",
      "[16, 9]\n",
      "[-5, -4]\n",
      "[3, 1]\n",
      "[[3, 1], [4, 1], [5, 1], [5, 2], [5, 3], [5, 4], [5, 5], [5, 6], [5, 7], [5, 8], [5, 9], [5, 10], [5, 11], [6, 11], [7, 11], [8, 11], [8, 10], [9, 10], [9, 9], [10, 9], [11, 9], [12, 9], [13, 9], [14, 9], [15, 9], [16, 9]]\n",
      "+++++++++++++++++++++++++++++++++++++++++++++++++++++++++++++++++\n",
      "+ 0  0  0  0  0  0  0  0  0  0  0  0  0  0  0  0  0  0  0  0  0 +\n",
      "+ 0  0  0  0  0  2  2  2  2  0  0  0  0  0  0  0  0  0  0  0  0 +\n",
      "+ 0  0  0  0  0  2  1  1  2  2  0  0  0  0  0  0  0  0  0  0  0 +\n",
      "+ 0  0  0  0  0  2  1  1  1  2  2  2  2  2  2  2  2  1  1  0  0 +\n",
      "+ 0  0  0  0  0  2  0  0  1  1  1  1  1  1  1  1  1  1  1  0  0 +\n",
      "+ 0  0  0  0  0  2  0  0  0  0  0  0  0  0  0  0  0  0  0  0  0 +\n",
      "+ 0  0  0  0  0  2  0  0  0  0  0  0  0  0  0  0  0  0  0  0  0 +\n",
      "+ 0  0  0  0  0  2  0  0  0  0  0  0  0  0  0  0  0  0  0  0  0 +\n",
      "+ 0  0  1  1  1  2  0  0  0  0  0  0  0  0  0  0  0  0  0  0  0 +\n",
      "+ 0  0  1  1  1  2  0  0  0  0  0  0  0  0  0  0  0  0  0  0  0 +\n",
      "+ 0  0  1  1  1  2  0  0  0  0  0  0  0  0  0  0  0  0  0  0  0 +\n",
      "+ 0  0  0  2  2  2  0  0  0  0  0  0  0  0  0  0  0  0  0  0  0 +\n",
      "+ 0  0  0  0  0  0  0  0  0  0  0  0  0  0  0  0  0  0  0  0  0 +\n",
      "+++++++++++++++++++++++++++++++++++++++++++++++++++++++++++++++++\n",
      "[[-5, -4], [-4, -4], [-3, -4], [-3, -3], [-3, -2], [-3, -1], [-3, 0], [-3, 1], [-3, 2], [-3, 3], [-3, 4], [-3, 5], [-3, 6], [-2, 6], [-1, 6], [0, 6], [0, 5], [1, 5], [1, 4], [2, 4], [3, 4], [4, 4], [5, 4], [6, 4], [7, 4], [8, 4]]\n"
     ]
    }
   ],
   "source": [
    "#创立map\n",
    "layout_map=Map(width,height)\n",
    "#layout_map.showMap()\n",
    "len_layout=len(layout_info)\n",
    "for i in range(0,len_layout):\n",
    "    #print(layout_info[i].area)\n",
    "    block_point=origin_to_blockpoint(layout_info[i].area,layout_info[i].xy,layout_info[i].orient)\n",
    "    #print(block_point)\n",
    "    abs_point=get_abs_block_point(map_origin,block_point)\n",
    "    #print(abs_point)\n",
    "    layout_map.setBlock(abs_point)\n",
    "    #layout_map.showMap()\n",
    "#layout_map.showMap()\n",
    "#开始寻路\n",
    "#print(coord_info)#提示一下要连线的路径\n",
    "coord_len=len(coord_info)\n",
    "text=open(\"./createinst.il\",'w+')\n",
    "cellid='''cellID=dbOpenCellViewByType(\"ysc_layout\" \"auto_route\" \"layout\" \"maskLayout\")'''#这里以后改，dbopen函数\n",
    "print(cellid,file=text)\n",
    "for i in range(0,coord_len):#????coord怎么和layout def里面的不一样\n",
    "    #print(coord_info[i])\n",
    "    port_1_temp=port_coord_to_map(coord_info[i][0][0],coord_info[i][0][1])#获取第一个端口坐标 map中的\n",
    "    print(port_1_temp)\n",
    "    port_1=[port_1_temp[0]-map_origin[0],port_1_temp[1]-map_origin[1]]#获取第一个端口的绝对坐标 map中的\n",
    "    print(port_1)\n",
    "    port_2_temp=port_coord_to_map(coord_info[i][1][0],coord_info[i][1][1])#同上\n",
    "    print(port_2_temp)\n",
    "    port_2=[port_2_temp[0]-map_origin[0],port_2_temp[1]-map_origin[1]]#同上上\n",
    "    print(port_2)\n",
    "    source=(port_2[0],port_2[1])#获取出发点\n",
    "    dest=(port_1[0],port_1[1])#获取终点\n",
    "    path=AStarSearch(layout_map,source,dest)#A星算path\n",
    "    print(path)\n",
    "    layout_map.showMap()\n",
    "    layout_map.setBlock(path)#把这条path添加到库中\n",
    "    temp=[coord_info[i][1],coord_info[i][0]]#只能用temp来重新排一下coord_info了\n",
    "    #print(temp)\n",
    "    new_path=[]\n",
    "    len_path=len(path)\n",
    "    for k in range(0,len_path):\n",
    "        new_path.append([path[k][0]+map_origin[0],path[k][1]+map_origin[1]])#把还原的path坐标写入new path中\n",
    "    print(new_path)\n",
    "    script=path_to_inst(new_path,temp,0,connection_info[i][0]+'_'+connection_info[i][2],1)#输入path 获取dbcreate脚本\n",
    "    len_script=len(script)\n",
    "    for j in range(0,len_script):\n",
    "        print(script[j],file=text)#将dbcreate脚本字符串写进text中输出\n",
    "text.close()"
   ]
  },
  {
   "cell_type": "code",
   "execution_count": null,
   "metadata": {},
   "outputs": [],
   "source": []
  },
  {
   "cell_type": "code",
   "execution_count": null,
   "metadata": {},
   "outputs": [],
   "source": []
  }
 ],
 "metadata": {
  "kernelspec": {
   "display_name": "Python 3",
   "language": "python",
   "name": "python3"
  },
  "language_info": {
   "codemirror_mode": {
    "name": "ipython",
    "version": 3
   },
   "file_extension": ".py",
   "mimetype": "text/x-python",
   "name": "python",
   "nbconvert_exporter": "python",
   "pygments_lexer": "ipython3",
   "version": "3.7.3"
  }
 },
 "nbformat": 4,
 "nbformat_minor": 2
}

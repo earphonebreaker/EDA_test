{
 "cells": [
  {
   "cell_type": "code",
   "execution_count": 14,
   "metadata": {},
   "outputs": [],
   "source": [
    "#网表读取模块\n",
    "#2020/2/6 杨树澄\n",
    "import time\n",
    "from SFQ_lib import *\n",
    "import string\n",
    "import sys"
   ]
  },
  {
   "cell_type": "code",
   "execution_count": 15,
   "metadata": {},
   "outputs": [
    {
     "name": "stdout",
     "output_type": "stream",
     "text": [
      "还没想好怎么写 留着当抬头吧\n"
     ]
    }
   ],
   "source": [
    "print(\"还没想好怎么写 留着当抬头吧\")"
   ]
  },
  {
   "cell_type": "code",
   "execution_count": 16,
   "metadata": {},
   "outputs": [],
   "source": [
    "#判断函数，用来查看当前行是什么类型的（module定义，input/output，还是例化语句？）\n",
    "def arbiter(line):\n",
    "    line_type=None\n",
    "    if((\"module \" in line) and (not(\"endmodule\" in line))):\n",
    "        line_type=\"module\"\n",
    "    elif(\"endmodule\" in line):\n",
    "        line_type=\"endmodule\"\n",
    "    elif(\"endspecify\" in line):\n",
    "        line_type=\"endspecify\"\n",
    "    elif(\"specify \" in line):\n",
    "        line_type=\"specify\"\n",
    "    elif(\"specparam \" in line):\n",
    "        line_type=\"specparam\"        \n",
    "    elif(\"output \" in line):\n",
    "        line_type=\"output\"\n",
    "    elif(\"input \" in line):\n",
    "        line_type=\"input\"\n",
    "    elif(\"inout \" in line):\n",
    "        line_type=\"inout\"\n",
    "    elif(line[0]==\"/\" and line[1]==\"/\"):\n",
    "        line_type=\"comment\"\n",
    "    elif(line[0]==\"`\" and line[-1]!=\";\"):\n",
    "        line_type=\"macro definition\"\n",
    "    elif(\"wire \" in line):\n",
    "        line_type=\"wire\"\n",
    "    #elif(\"reg \" in line): #网表存在reg变量吗？no\n",
    "    #    line_type=\"reg\"\n",
    "    else:\n",
    "        line_type=\"instanlization\"\n",
    "    return line_type\n",
    "#废弃的函数，暂时没用\n",
    "def finishing_detector(line):\n",
    "    finished=None\n",
    "    if(line[-1]==\";\"):\n",
    "        finished=True\n",
    "    else:\n",
    "        finished=False\n",
    "    return finished\n",
    "def remove_space(string): #去除字符串中的空格\n",
    "    return string.replace(' ','')\n",
    "\n",
    "def read_info(line):#用于读取例化语句的信息，并返回例化信息\n",
    "    line=line.lstrip()\n",
    "    index_1=line.find(\" \")#查找第一个空格确定module名\n",
    "    module_name=line[0:index_1]#获取module名\n",
    "    temp_line_1=line[index_1:]#删掉module名\n",
    "    temp_line_2=remove_space(temp_line_1)#去掉多余的空格\n",
    "    index_2=temp_line_2.find('(')#确定instance名的位置\n",
    "    instance_name=temp_line_2[0:index_2]#获取instance名\n",
    "    temp_line_loop=temp_line_2[index_2+1:]\n",
    "    port_num=temp_line_2.count('.')#确定port个数\n",
    "    #print(port_num)\n",
    "    port=[]#端口集\n",
    "    wire=[]#连线集\n",
    "    #print(temp_line_loop)\n",
    "    for i in range(0,port_num):\n",
    "        #print(temp_line_loop)\n",
    "        index_3=temp_line_loop.find('.')#查找端口标识\n",
    "        index_4=temp_line_loop.find('(')#查找连线左边界\n",
    "        index_5=temp_line_loop.find(')')#查找连线右边界\n",
    "        port.append(temp_line_loop[index_3+1:index_4])#确定端口名\n",
    "        wire.append(temp_line_loop[index_4+1:index_5])#确定连线名\n",
    "        temp_line_loop=temp_line_loop[index_5+2:]#去掉已添加端口\n",
    "        #print(temp_line_loop)\n",
    "    #print(temp_line_loop)\n",
    "    #print(port)\n",
    "    #print(wire)\n",
    "    return [module_name,instance_name,port,wire]\n",
    "#line='s2j2o_b  I53 ( .AOA(net099), .AOB(net0104), .AI(net8));'\n",
    "#print(read_info(line))\n",
    "def read_module_name(line):#读取module名\n",
    "    line=line.lstrip()#去空格\n",
    "    index_1=line.find(\" \")#找空格\n",
    "    temp_line_1=line[index_1:]#截取module字串\n",
    "    temp_line_2=remove_space(temp_line_1)#去所有空格\n",
    "    index_2=temp_line_2.find('(')#找到第一个左括号\n",
    "    return temp_line_2[:index_2]#返回module名\n",
    "def read_port(line):#读取端口信息\n",
    "    line=line.lstrip()\n",
    "    if(\"[\" in line):\n",
    "        index_0=line.find(\":\")\n",
    "        index_2=line.find(\"[\")\n",
    "        index_3=line.find(\"]\")\n",
    "        bit=abs(int(line[index_2+1:index_0])-int(line[index_0+1:index_3]))+1\n",
    "        line=line[index_0+3:]\n",
    "    else:\n",
    "        bit=1\n",
    "        index_1=line.find(\" \")\n",
    "        line=line[index_1:]\n",
    "    temp_line_loop=remove_space(line)    \n",
    "    #print(temp_line_1)\n",
    "    port_num=temp_line_loop.count(',')+1#确定port个数\n",
    "    port=[bit]\n",
    "    for i in range(0,port_num):\n",
    "        index_2=temp_line_loop.find(\",\")\n",
    "        port.append(temp_line_loop[:index_2])\n",
    "        temp_line_loop=temp_line_loop[index_2+1:]\n",
    "    return port\n",
    "#line='output [16:1] CO, SO,TO,BO,AO    ,DO;'\n",
    "#\n",
    "#read_port(line)"
   ]
  },
  {
   "cell_type": "code",
   "execution_count": 17,
   "metadata": {},
   "outputs": [],
   "source": [
    "def read_netlist(filename):#读取netlist中的module名，输入输出端口，例化信息\n",
    "    netlist=[]\n",
    "    #打开网表，把网表的内容储存在netlist变量里\n",
    "    with open(filename) as f:\n",
    "          for line in f.readlines():\n",
    "                if(line==\"\\n\"):\n",
    "                    continue\n",
    "                else:\n",
    "                    line=line.rstrip('\\n')\n",
    "                    netlist.append(line.rstrip('\\n'))\n",
    "    len_netlist=len(netlist)\n",
    "    #删除placement和routing optimization中不需要的timescale和文件抬头，顺带保护一下end类语句\n",
    "    del_list=[]\n",
    "    for i in range(0,len_netlist-1):\n",
    "        if(arbiter(netlist[i])==\"comment\"):\n",
    "            del_list.append(netlist[i])\n",
    "        elif(arbiter(netlist[i])==\"macro definition\"):\n",
    "            del_list.append(netlist[i])\n",
    "        elif(arbiter(netlist[i])==\"endspecify\"):\n",
    "            netlist[i]=netlist[i]+\";\"\n",
    "        elif(arbiter(netlist[i])==\"endmodule\"):\n",
    "            netlist[i]=netlist[i]+\";\"\n",
    "    len_del=len(del_list)\n",
    "    for i in range(0,len_del):\n",
    "        netlist.remove(del_list[i])\n",
    "    len_netlist=len(netlist)\n",
    "    for i in range(0,len_netlist):#去除回车\n",
    "        netlist[i]=netlist[i].replace('\\n','')\n",
    "    #将处理好的网表打成一条字符串（为了去掉换行），顺带再以分号为界分开。       \n",
    "    new=\"\".join(netlist).split(';')\n",
    "    len_new=len(new)\n",
    "    #上一步中分界的时候去掉了分号，现在再加上(除了end类)\n",
    "    for i in range(0,len_new):\n",
    "        if(arbiter(new[i])!=\"endmodule\" and arbiter(new[i])!=\"endspecify\" ):\n",
    "            new[i]=new[i]+\";\"\n",
    "            \n",
    "    #以下获取信息模块\n",
    "    module_top_info=[]\n",
    "    k=0\n",
    "    flag=0 #flag为1的时候开始查找例化语句\n",
    "    len_new=len(new)\n",
    "    for i in range(0,len_new):\n",
    "        if(arbiter(new[i])==\"module\"):\n",
    "            module_top_info.append(read_module_name(new[i]))\n",
    "            k=k+1\n",
    "    inst_info=[[] for i in range(k)]\n",
    "    input_info=[[] for i in range(k)]\n",
    "    output_info=[[] for i in range(k)]\n",
    "\n",
    "    k=0\n",
    "    for i in range(0,len_new):#逐句判断处理好的netlist为什么类型的语句，并作出相应的信息提取操作\n",
    "        if(arbiter(new[i])==\"module\" and flag==0):\n",
    "            flag=1\n",
    "        elif(arbiter(new[i])==\"endmodule\" and flag==1):\n",
    "            flag=0\n",
    "            k=k+1\n",
    "        elif(arbiter(new[i])==\"instanlization\" and flag==1):\n",
    "            inst_info[k].append(read_instance(read_info(new[i])))\n",
    "        elif(arbiter(new[i])==\"input\" and flag==1):\n",
    "            input_info[k].append((read_port(new[i])))\n",
    "        elif(arbiter(new[i])==\"output\" and flag==1):\n",
    "            output_info[k].append((read_port(new[i])))\n",
    "    return [module_top_info,input_info,output_info,inst_info]\n"
   ]
  },
  {
   "cell_type": "code",
   "execution_count": 18,
   "metadata": {},
   "outputs": [],
   "source": [
    "whatever='whatever.v'\n",
    "test=read_netlist(whatever)\n",
    "#print(test)"
   ]
  },
  {
   "cell_type": "code",
   "execution_count": 19,
   "metadata": {},
   "outputs": [
    {
     "name": "stdout",
     "output_type": "stream",
     "text": [
      "[[<SFQ_lib.and_e object at 0x000001BC314FC240>, <SFQ_lib.cb_a object at 0x000001BC314FC5C0>, <SFQ_lib.d22_a object at 0x000001BC314FC588>]]\n",
      "['wireABO', 'wireAI', 'wireBI']\n"
     ]
    }
   ],
   "source": [
    "def read_wire_name(SFQclass):#用来读取当前的SFQ model中包含哪些种类的wire\n",
    "    class_dir=dir(SFQclass)\n",
    "    class_len=len(class_dir)\n",
    "    class_vars=vars(SFQclass)\n",
    "    wire_type=[]\n",
    "    for i in range(0,class_len):\n",
    "        if 'wire' in class_dir[i]:\n",
    "            wire_type.append(class_dir[i])\n",
    "    return wire_type\n",
    "print(test[3])\n",
    "print(read_wire_name(test[3][0][1]))"
   ]
  },
  {
   "cell_type": "code",
   "execution_count": 20,
   "metadata": {},
   "outputs": [
    {
     "name": "stdout",
     "output_type": "stream",
     "text": [
      "{'wireABO_net14': 'I0', 'wireAI_AI2': 'I0', 'wireBI_BI': 'I0', 'wireTI_TI2': 'I0', 'wireABO_ABO': 'I2', 'wireAI_net13': 'I2', 'wireBI_net14': 'I2', 'wireAI_AI1': 'I1', 'wireTI_TI1': 'I1', 'wireTO_net13': 'I1'}\n"
     ]
    }
   ],
   "source": [
    "def inmod_inst_to_wire(module):#输入一整个module，得到module中每个inst的名字对应wire对应net的dictionary\n",
    "    len_inmod=len(module)\n",
    "    dict_model={}\n",
    "    for i in range(0,len_inmod):\n",
    "        wire_name=read_wire_name(module[i])\n",
    "        class_vars=vars(module[i])\n",
    "        len_wire_name=len(wire_name)\n",
    "        for j in range(0,len_wire_name):\n",
    "            dict_model.update({wire_name[j]+\"_\"+class_vars[wire_name[j]]:module[i].instname})\n",
    "    return dict_model\n",
    "    #print(dict_inst_to_wire)\n",
    "    #return dict_inst_to_wire\n",
    "dict_info=inmod_inst_to_wire(test[3][0])\n",
    "print(dict_info)"
   ]
  },
  {
   "cell_type": "code",
   "execution_count": 21,
   "metadata": {},
   "outputs": [
    {
     "name": "stdout",
     "output_type": "stream",
     "text": [
      "['I2,wireAI,I1,wireTO', 'I2,wireBI,I0,wireABO']\n",
      "0.0\n"
     ]
    }
   ],
   "source": [
    "def read_connection(model_info,dict_info):#遍历整个module，查看每个inst的net与哪些端口连接，（调用上面的函数），并汇总到一起\n",
    "    module_num=len(model_info[0])\n",
    "    port_seq=port_sequence()\n",
    "    seq_num=len(port_seq)\n",
    "    #print(port_seq)\n",
    "    #print(model_info[0])\n",
    "    connection=[]\n",
    "    for i in range(0,module_num):\n",
    "        #print(model_info[3][i])\n",
    "        dict_info=inmod_inst_to_wire(model_info[3][i])\n",
    "        #print(dict_info)\n",
    "        len_inst=len(model_info[3][i])\n",
    "        #print(len_inst)\n",
    "        for j in range(0,len_inst):\n",
    "            wire_name=read_wire_name(model_info[3][i][j])\n",
    "            var_model=vars(model_info[3][i][j])\n",
    "            inst_name=model_info[3][i][j].instname\n",
    "            #print(inst_name)\n",
    "            len_wire=len(wire_name)\n",
    "            #print(wire_name)\n",
    "            for m in range(0,len_wire):\n",
    "                if(not port_direction(wire_name[m])):\n",
    "                    net_name=var_model[wire_name[m]]\n",
    "                    #print(net_name)\n",
    "                    for n in range(0,seq_num):\n",
    "                        if \"wire\"+port_seq[n]+\"_\"+net_name in dict_info and inst_name!=dict_info[\"wire\"+port_seq[n]+\"_\"+net_name]:\n",
    "                            #print(net_name+inst_name+dict_info[\"wire\"+port_seq[n]+\"_\"+net_name])\n",
    "                            connect_info=inst_name+\",\"+wire_name[m]+\",\"+dict_info[\"wire\"+port_seq[n]+\"_\"+net_name]+\",wire\"+port_seq[n]\n",
    "                            #I0,wireABO,I2,wireBI\n",
    "                            connection.append(connect_info)\n",
    "        return connection\n",
    "start=time.time()#计算开始的系统时间\n",
    "test_def_connection=read_connection(test,dict_info)\n",
    "print(test_def_connection)\n",
    "end=time.time()\n",
    "print(end-start)#打印程序运行时间"
   ]
  },
  {
   "cell_type": "code",
   "execution_count": 19,
   "metadata": {},
   "outputs": [
    {
     "ename": "FileNotFoundError",
     "evalue": "[Errno 2] No such file or directory: '-f'",
     "output_type": "error",
     "traceback": [
      "\u001b[1;31m---------------------------------------------------------------------------\u001b[0m",
      "\u001b[1;31mFileNotFoundError\u001b[0m                         Traceback (most recent call last)",
      "\u001b[1;32m<ipython-input-19-a6dfa8a0513d>\u001b[0m in \u001b[0;36m<module>\u001b[1;34m\u001b[0m\n\u001b[0;32m      2\u001b[0m     \u001b[0mprint\u001b[0m\u001b[1;33m(\u001b[0m\u001b[0mread_netlist\u001b[0m\u001b[1;33m(\u001b[0m\u001b[0margv\u001b[0m\u001b[1;33m[\u001b[0m\u001b[1;36m1\u001b[0m\u001b[1;33m]\u001b[0m\u001b[1;33m)\u001b[0m\u001b[1;33m)\u001b[0m\u001b[1;33m\u001b[0m\u001b[1;33m\u001b[0m\u001b[0m\n\u001b[0;32m      3\u001b[0m \u001b[1;32mif\u001b[0m \u001b[0m__name__\u001b[0m \u001b[1;33m==\u001b[0m \u001b[1;34m\"__main__\"\u001b[0m\u001b[1;33m:\u001b[0m\u001b[1;33m\u001b[0m\u001b[1;33m\u001b[0m\u001b[0m\n\u001b[1;32m----> 4\u001b[1;33m     \u001b[0mmain\u001b[0m\u001b[1;33m(\u001b[0m\u001b[0msys\u001b[0m\u001b[1;33m.\u001b[0m\u001b[0margv\u001b[0m\u001b[1;33m)\u001b[0m\u001b[1;33m\u001b[0m\u001b[1;33m\u001b[0m\u001b[0m\n\u001b[0m",
      "\u001b[1;32m<ipython-input-19-a6dfa8a0513d>\u001b[0m in \u001b[0;36mmain\u001b[1;34m(argv)\u001b[0m\n\u001b[0;32m      1\u001b[0m \u001b[1;32mdef\u001b[0m \u001b[0mmain\u001b[0m\u001b[1;33m(\u001b[0m\u001b[0margv\u001b[0m\u001b[1;33m)\u001b[0m\u001b[1;33m:\u001b[0m\u001b[1;33m\u001b[0m\u001b[1;33m\u001b[0m\u001b[0m\n\u001b[1;32m----> 2\u001b[1;33m     \u001b[0mprint\u001b[0m\u001b[1;33m(\u001b[0m\u001b[0mread_netlist\u001b[0m\u001b[1;33m(\u001b[0m\u001b[0margv\u001b[0m\u001b[1;33m[\u001b[0m\u001b[1;36m1\u001b[0m\u001b[1;33m]\u001b[0m\u001b[1;33m)\u001b[0m\u001b[1;33m)\u001b[0m\u001b[1;33m\u001b[0m\u001b[1;33m\u001b[0m\u001b[0m\n\u001b[0m\u001b[0;32m      3\u001b[0m \u001b[1;32mif\u001b[0m \u001b[0m__name__\u001b[0m \u001b[1;33m==\u001b[0m \u001b[1;34m\"__main__\"\u001b[0m\u001b[1;33m:\u001b[0m\u001b[1;33m\u001b[0m\u001b[1;33m\u001b[0m\u001b[0m\n\u001b[0;32m      4\u001b[0m     \u001b[0mmain\u001b[0m\u001b[1;33m(\u001b[0m\u001b[0msys\u001b[0m\u001b[1;33m.\u001b[0m\u001b[0margv\u001b[0m\u001b[1;33m)\u001b[0m\u001b[1;33m\u001b[0m\u001b[1;33m\u001b[0m\u001b[0m\n",
      "\u001b[1;32m<ipython-input-16-c66a28604e96>\u001b[0m in \u001b[0;36mread_netlist\u001b[1;34m(filename)\u001b[0m\n\u001b[0;32m      2\u001b[0m     \u001b[0mnetlist\u001b[0m\u001b[1;33m=\u001b[0m\u001b[1;33m[\u001b[0m\u001b[1;33m]\u001b[0m\u001b[1;33m\u001b[0m\u001b[1;33m\u001b[0m\u001b[0m\n\u001b[0;32m      3\u001b[0m     \u001b[1;31m#打开网表，把网表的内容储存在netlist变量里\u001b[0m\u001b[1;33m\u001b[0m\u001b[1;33m\u001b[0m\u001b[1;33m\u001b[0m\u001b[0m\n\u001b[1;32m----> 4\u001b[1;33m     \u001b[1;32mwith\u001b[0m \u001b[0mopen\u001b[0m\u001b[1;33m(\u001b[0m\u001b[0mfilename\u001b[0m\u001b[1;33m)\u001b[0m \u001b[1;32mas\u001b[0m \u001b[0mf\u001b[0m\u001b[1;33m:\u001b[0m\u001b[1;33m\u001b[0m\u001b[1;33m\u001b[0m\u001b[0m\n\u001b[0m\u001b[0;32m      5\u001b[0m           \u001b[1;32mfor\u001b[0m \u001b[0mline\u001b[0m \u001b[1;32min\u001b[0m \u001b[0mf\u001b[0m\u001b[1;33m.\u001b[0m\u001b[0mreadlines\u001b[0m\u001b[1;33m(\u001b[0m\u001b[1;33m)\u001b[0m\u001b[1;33m:\u001b[0m\u001b[1;33m\u001b[0m\u001b[1;33m\u001b[0m\u001b[0m\n\u001b[0;32m      6\u001b[0m                 \u001b[1;32mif\u001b[0m\u001b[1;33m(\u001b[0m\u001b[0mline\u001b[0m\u001b[1;33m==\u001b[0m\u001b[1;34m\"\\n\"\u001b[0m\u001b[1;33m)\u001b[0m\u001b[1;33m:\u001b[0m\u001b[1;33m\u001b[0m\u001b[1;33m\u001b[0m\u001b[0m\n",
      "\u001b[1;31mFileNotFoundError\u001b[0m: [Errno 2] No such file or directory: '-f'"
     ]
    }
   ],
   "source": [
    "def main(argv):\n",
    "    print(read_netlist(argv[1]))\n",
    "if __name__ == \"__main__\":\n",
    "    main(sys.argv)"
   ]
  },
  {
   "cell_type": "code",
   "execution_count": null,
   "metadata": {},
   "outputs": [],
   "source": []
  }
 ],
 "metadata": {
  "kernelspec": {
   "display_name": "Python 3",
   "language": "python",
   "name": "python3"
  },
  "language_info": {
   "codemirror_mode": {
    "name": "ipython",
    "version": 3
   },
   "file_extension": ".py",
   "mimetype": "text/x-python",
   "name": "python",
   "nbconvert_exporter": "python",
   "pygments_lexer": "ipython3",
   "version": "3.7.3"
  }
 },
 "nbformat": 4,
 "nbformat_minor": 2
}

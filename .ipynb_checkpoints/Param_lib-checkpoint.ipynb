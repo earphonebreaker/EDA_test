{
 "cells": [
  {
   "cell_type": "code",
   "execution_count": 1,
   "metadata": {},
   "outputs": [],
   "source": [
    "#专门存放parameter的库\n",
    "#2020/3/7 杨树澄"
   ]
  },
  {
   "cell_type": "code",
   "execution_count": 2,
   "metadata": {},
   "outputs": [],
   "source": [
    "inf=float('inf') #常量无穷大\n",
    "layout_unit_len=30 #版图单位长度"
   ]
  },
  {
   "cell_type": "code",
   "execution_count": 1,
   "metadata": {},
   "outputs": [],
   "source": [
    "map_enlarge=4 #map扩充系数\n",
    "map_offset=2 #map偏移系数"
   ]
  },
  {
   "cell_type": "code",
   "execution_count": 1,
   "metadata": {},
   "outputs": [],
   "source": [
    "layer_straight_line=[\"ptl_13_ip1\",\"ptl_13_mn0\"] #以下为调用单元布线部分用到的模型和库\n",
    "layer_corner_line=[\"ptl_14_ip1\",\"ptl_14_mn0\"]\n",
    "route_lib=\"ysc_layout\""
   ]
  },
  {
   "cell_type": "code",
   "execution_count": 1,
   "metadata": {},
   "outputs": [],
   "source": [
    "drv_out=4 #driver的输出口宽度\n",
    "rec_out=8 #receiver的输入口长度\n",
    "wire_width=14 #msl线宽\n",
    "enlarge_coef=5 #interface延长系数"
   ]
  },
  {
   "cell_type": "code",
   "execution_count": 2,
   "metadata": {},
   "outputs": [],
   "source": [
    "try_num=10 #retry程序的最大运行次数"
   ]
  },
  {
   "cell_type": "code",
   "execution_count": null,
   "metadata": {},
   "outputs": [],
   "source": []
  }
 ],
 "metadata": {
  "kernelspec": {
   "display_name": "Python 3",
   "language": "python",
   "name": "python3"
  },
  "language_info": {
   "codemirror_mode": {
    "name": "ipython",
    "version": 3
   },
   "file_extension": ".py",
   "mimetype": "text/x-python",
   "name": "python",
   "nbconvert_exporter": "python",
   "pygments_lexer": "ipython3",
   "version": "3.6.8"
  }
 },
 "nbformat": 4,
 "nbformat_minor": 2
}

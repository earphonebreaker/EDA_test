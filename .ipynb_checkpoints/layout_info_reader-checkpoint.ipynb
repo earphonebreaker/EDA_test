{
 "cells": [
  {
   "cell_type": "code",
   "execution_count": 2,
   "metadata": {},
   "outputs": [],
   "source": [
    "#2020/2/17 杨树澄\n",
    "#读取routing程序生成的信息\n",
    "#bBox的坐标为 1->左下x 2->左下y 3->右上x 4->右上y \n",
    "#update:bBox好像没啥用了 可以直接用origin和area两个参数来界定 效果更精确一些 后期网表变大后考虑去掉bBox相关"
   ]
  },
  {
   "cell_type": "code",
   "execution_count": 1,
   "metadata": {},
   "outputs": [],
   "source": [
    "from pylab import *\n",
    "from SFQ_lib import *\n",
    "import sys\n",
    "import re"
   ]
  },
  {
   "cell_type": "code",
   "execution_count": 2,
   "metadata": {},
   "outputs": [],
   "source": [
    "def floor_to_decimal(num): #把bBox误差出来的小数都去掉\n",
    "    index=30\n",
    "    return int(round(num/index))*index"
   ]
  },
  {
   "cell_type": "code",
   "execution_count": 3,
   "metadata": {},
   "outputs": [],
   "source": [
    "def read_layout(filename): #io接口，用来读取SKILL输出的版图信息\n",
    "    instance_info=[]#module名\n",
    "    orient_info=[]#方向\n",
    "    inst_name_info=[]#例化名\n",
    "    with open(filename[0]) as f:\n",
    "        for line in f.readlines():\n",
    "            line=line.rstrip('\\n')\n",
    "            instance_info.append(line.rstrip('\\n'))  \n",
    "    with open(filename[1]) as f:\n",
    "        for line in f.readlines():\n",
    "            line=line.rstrip('\\n')\n",
    "            orient_info.append(line.rstrip('\\n'))\n",
    "    length=len(instance_info)\n",
    "    bBox_info_pre=[]\n",
    "    with open(filename[2]) as f:\n",
    "        for line in f.readlines():\n",
    "            line=line.rstrip('\\n')\n",
    "            bBox_info_pre.append(line.rstrip('\\n')) \n",
    "    bBox_info=[[] for i in range(int(length))]\n",
    "    for i in range(0,length):\n",
    "        bBox_info_pre[i]=bBox_info_pre[i].replace(\"(\",\"\")\n",
    "        bBox_info_pre[i]=bBox_info_pre[i].replace(\")\",\"\")\n",
    "        bBox_info[i]=bBox_info_pre[i].split(\" \")\n",
    "        for k in range(0,4):\n",
    "            bBox_info[i][k]=floor_to_decimal(float(bBox_info[i][k]))\n",
    "    xy_info=[[] for i in range(int(length))]\n",
    "    xy_info_pre=[]\n",
    "    with open(filename[3]) as f:\n",
    "        for line in f.readlines():\n",
    "            line=line.rstrip('\\n')\n",
    "            xy_info_pre.append(line.rstrip('\\n')) \n",
    "    for i in range(0,length):\n",
    "        xy_info_pre[i]=xy_info_pre[i].replace(\"(\",\"\")\n",
    "        xy_info_pre[i]=xy_info_pre[i].replace(\")\",\"\")\n",
    "        xy_info[i]=xy_info_pre[i].split(\" \")\n",
    "        for k in range(0,2):\n",
    "            xy_info[i][k]=floor_to_decimal(float(xy_info[i][k]))\n",
    "    with open(filename[4]) as f:\n",
    "        for line in f.readlines():\n",
    "            line=line.rstrip('\\n')\n",
    "            inst_name_info.append(line.rstrip('\\n'))              \n",
    "    return [instance_info, orient_info, bBox_info,xy_info,inst_name_info]"
   ]
  },
  {
   "cell_type": "code",
   "execution_count": 4,
   "metadata": {},
   "outputs": [],
   "source": [
    "def layout_info_summary(filename):#数据顺序：model，方向，bBox，起始点,汇总到一个info变量里\n",
    "    basic_info=read_layout(filename)\n",
    "    len_layout_inst=len(basic_info[0])\n",
    "    layout_info_out=[[] for i in range(int(len_layout_inst))]\n",
    "    for i in range(0,len_layout_inst):\n",
    "        layout_info_out[i]=layout_to_model(basic_info[0][i],basic_info[4][i])\n",
    "        layout_info_out[i].orient=basic_info[1][i]\n",
    "        layout_info_out[i].xy=basic_info[3][i]\n",
    "        #layout_info_out[i].append(basic_info[3][i])\n",
    "    return layout_info_out"
   ]
  },
  {
   "cell_type": "code",
   "execution_count": 5,
   "metadata": {},
   "outputs": [
    {
     "name": "stdout",
     "output_type": "stream",
     "text": [
      "[<SFQ_lib.and_e object at 0x000001D01F6D3710>, <SFQ_lib.d22_a object at 0x000001D01F6D3D68>, <SFQ_lib.cb_a object at 0x000001D01F6D3EF0>]\n",
      "[-90, 0]\n"
     ]
    }
   ],
   "source": [
    "#测试模块\n",
    "file_list=[\"routing_name.txt\",\"routing_orient.txt\",\"routing_bbox.txt\", \"routing_xy.txt\",\"routing_inst.txt\"]\n",
    "layout_info=layout_info_summary(file_list)\n",
    "print(layout_info)\n",
    "print(layout_info[0].xy)"
   ]
  },
  {
   "cell_type": "code",
   "execution_count": 6,
   "metadata": {},
   "outputs": [
    {
     "name": "stdout",
     "output_type": "stream",
     "text": [
      "{'I1': {'wireAI': 1, 'area': [3, 3], 'orient': 'MYR90', 'origin': [-90, 0], 'wireTI': 2, 'wireBI': 3, 'wireABO': 8}, 'I2': {'wireAI': 1, 'area': [2, 2], 'orient': 'R0', 'origin': [-60, 120], 'wireTI': 3, 'wireTO': 5}, 'I3': {'wireAI': 1, 'area': [2, 2], 'orient': 'R0', 'origin': [270, 90], 'wireBI': 2, 'wireABO': 5}}\n"
     ]
    }
   ],
   "source": [
    "connection=['I3,wireAI,I2,wireTO', 'I3,wireBI,I1,wireABO']\n",
    "list_layout_info=read_layout(file_list)\n",
    "def connect_info_process(connection):\n",
    "    len_connect=len(connection)\n",
    "    connection_info=[]\n",
    "    for i in range(0,len_connect):\n",
    "        connection_info.append(connection[i].split(\",\"))\n",
    "    return connection_info\n",
    "connection_info=connect_info_process(connection)\n",
    "\n",
    "def port_rearrangement(SFQmodel):\n",
    "    model_dir=dir(SFQmodel)\n",
    "    len_dir=len(model_dir)\n",
    "    seq_port=port_sequence()\n",
    "    len_seq=len(seq_port)\n",
    "    wire_name=[]\n",
    "    for i in range(0,len_seq):\n",
    "        if \"wire\"+seq_port[i] in model_dir:\n",
    "            wire_name.append(\"wire\"+seq_port[i])\n",
    "    return wire_name\n",
    "\n",
    "#print(list_layout_info)\n",
    "def layout_to_dict(layout_info):\n",
    "    len_layout_info=len(layout_info)\n",
    "    dict_inst_to_wire={}\n",
    "    for i in range(0,len_layout_info):\n",
    "        inst_name=layout_info[i].instname\n",
    "        wire_name=port_rearrangement(layout_info[i])\n",
    "        #print(inst_name)\n",
    "        #print(wire_name)\n",
    "        len_wire_name=len(wire_name)\n",
    "        info={}\n",
    "        for j in range(0,len_wire_name):\n",
    "            info_temp={wire_name[j]:layout_info[i].port_type[j],\"area\":layout_info[i].area,\"orient\":layout_info[i].orient,\"origin\":layout_info[i].xy}\n",
    "            #print(info_temp)\n",
    "            info.update(info_temp)\n",
    "        dict_temp={layout_info[i].instname:info}\n",
    "        #print(info)\n",
    "        #print(dict_temp)\n",
    "        dict_inst_to_wire.update(dict_temp)\n",
    "    return dict_inst_to_wire\n",
    "dictionary=layout_to_dict(layout_info)\n",
    "print(dictionary)\n",
    "#print(layout_info[0].area)"
   ]
  },
  {
   "cell_type": "code",
   "execution_count": 7,
   "metadata": {},
   "outputs": [
    {
     "name": "stdout",
     "output_type": "stream",
     "text": [
      "I3\n",
      "I3\n",
      "[[[[270, 135], 1], [[0, 135], 3]], [[[270, 105], 1], [[-135, -90], 2]]]\n"
     ]
    }
   ],
   "source": [
    "def get_route_coord(connection_info,dict_inst_to_wire):#获取port到port的绝对坐标\n",
    "    len_connection=len(connection_info)\n",
    "    routing_coord=[]\n",
    "    for i in range(0,len_connection):\n",
    "        print(connection_info[i][0])\n",
    "        dict_of_first_inst=dict_inst_to_wire[connection_info[i][0]]\n",
    "        dict_of_second_inst=dict_inst_to_wire[connection_info[i][2]]\n",
    "        start_wire=connection_info[i][1]\n",
    "        end_wire=connection_info[i][3]\n",
    "        start_port=dict_of_first_inst[start_wire]\n",
    "        end_port=dict_of_second_inst[end_wire]\n",
    "        first_inst_area=dict_of_first_inst[\"area\"]\n",
    "        second_inst_area=dict_of_second_inst[\"area\"]        \n",
    "        start_relative_coord=port_location(start_port,first_inst_area)[0]\n",
    "        start_index=port_location(start_port,first_inst_area)[1]\n",
    "        end_relative_coord=port_location(end_port,second_inst_area)[0]\n",
    "        end_index=port_location(end_port,second_inst_area)[1]\n",
    "        first_inst_orient=dict_of_first_inst[\"orient\"]\n",
    "        second_inst_orient=dict_of_second_inst[\"orient\"] \n",
    "        first_inst_origin=dict_of_first_inst[\"origin\"]\n",
    "        second_inst_origin=dict_of_second_inst[\"origin\"]\n",
    "        first_abs_coord=get_abs_coord(first_inst_orient,first_inst_origin,start_relative_coord,start_index)\n",
    "        second_abs_coord=get_abs_coord(second_inst_orient,second_inst_origin,end_relative_coord,end_index)\n",
    "        routing_coord.append([first_abs_coord,second_abs_coord])\n",
    "    return routing_coord\n",
    "coord_info=get_route_coord(connection_info,dictionary)\n",
    "print(coord_info)"
   ]
  },
  {
   "cell_type": "code",
   "execution_count": 8,
   "metadata": {},
   "outputs": [],
   "source": [
    "def to_dbCreate(model,instname,coord,orient):\n",
    "    '''cellID=dbOpenCellViewByType(\"ysc_layout\" \"layouttest\" \"layout\" \"maskLayout\" \"w\")\n",
    "    dbCreateParamInstByMasterName(cellID\n",
    "    \"ysc03_lib\" \"jtl_crs22_2x2_bi1ai2bo3ao5\" \"layout\" \"inst1\" list(120 120) \"R0\")\n",
    "    jtl1j_a_1x1ai1ao3\n",
    "    '''\n",
    "    dbcreate= \"dbCreateParamInstByMasterName(cellID \\\"ysc03_lib\\\" \\\"{0}\\\" \\\"layout\\\" \\\"{1}\\\" list({2} {3}) \\\"{4}\\\")\".format(model,instname,coord[0],coord[1],orient)\n",
    "    #print(dbcreate)\n",
    "    return dbcreate"
   ]
  },
  {
   "cell_type": "code",
   "execution_count": 9,
   "metadata": {},
   "outputs": [],
   "source": [
    "def direction_to_inst(input_direction,output_direction):\n",
    "    if(input_direction==1):\n",
    "        if(output_direction==1):\n",
    "            model=\"jtl1j_a_1x1ai1ao3\"\n",
    "            orient=\"MY\"\n",
    "            origin=[-1,0]\n",
    "        elif(output_direction==2):\n",
    "            model=\"jtl1j_a_1x1ai1ao4\"\n",
    "            orient=\"R180\"\n",
    "            origin=[-1,1]\n",
    "        elif(output_direction==4):\n",
    "            model=\"jtl1j_a_1x1ai1ao4\"\n",
    "            orient=\"MY\"\n",
    "            origin=[1,0]\n",
    "        else:\n",
    "            raise Error(\"Wrong routing strategy: undefined direction -2\")\n",
    "    elif(input_direction==2):\n",
    "        if(output_direction==1):\n",
    "            model=\"jtl1j_a_1x1ai1ao4\"\n",
    "            orient=\"MYR90\"\n",
    "            origin=[1,1]\n",
    "        elif(output_direction==2):\n",
    "            model=\"jtl1j_a_1x1ai1ao3\"\n",
    "            orient=\"R270\"\n",
    "            origin=[0,1]\n",
    "        elif(output_direction==3):\n",
    "            model=\"jtl1j_a_1x1ai1ao4\"\n",
    "            orient=\"R270\"\n",
    "            origin=[0,1]\n",
    "        else:\n",
    "            raise Error(\"Wrong routing strategy: undefined direction -2\")\n",
    "    elif(input_direction==3):\n",
    "        if(output_direction==2):\n",
    "            model=\"jtl1j_a_1x1ai1ao4\"\n",
    "            orient=\"MX\"\n",
    "            origin=[0,1]\n",
    "        elif(output_direction==3):\n",
    "            model=\"jtl1j_a_1x1ai1ao3\"\n",
    "            orient=\"R0\"\n",
    "            origin=[0,0]\n",
    "        elif(output_direction==4):\n",
    "            model=\"jtl1j_a_1x1ai1ao4\"\n",
    "            orient=\"R0\"\n",
    "            origin=[0,0]\n",
    "        else:\n",
    "            raise Error(\"Wrong routing strategy: undefined direction -2\")\n",
    "    elif(input_direction==4):\n",
    "        if(output_direction==1):\n",
    "            model=\"jtl1j_a_1x1ai1ao4\"\n",
    "            orient=\"R90\"\n",
    "            origin=[1,0]\n",
    "        elif(output_direction==3):\n",
    "            model=\"jtl1j_a_1x1ai1ao4\"\n",
    "            orient=\"MXR90\"\n",
    "            origin=[0,0]\n",
    "        elif(output_direction==4):\n",
    "            model=\"jtl1j_a_1x1ai1ao3\"\n",
    "            orient=\"R90\"\n",
    "            origin=[1,0]\n",
    "        else:\n",
    "            raise Error(\"Wrong routing strategy: undefined direction -2\")\n",
    "    else:\n",
    "        raise Error(\"Wrong routing strategy: undefined direction -3\")\n",
    "    return [model,orient,origin]"
   ]
  },
  {
   "cell_type": "code",
   "execution_count": 10,
   "metadata": {},
   "outputs": [],
   "source": [
    "def last_check_index(index):\n",
    "    if(index==1):\n",
    "        last_index=3\n",
    "    elif(index==2):\n",
    "        last_index=4;\n",
    "    elif(index==3):\n",
    "        last_index=1;\n",
    "    elif(index==4):\n",
    "        last_index=2;\n",
    "    return last_index"
   ]
  },
  {
   "cell_type": "code",
   "execution_count": 11,
   "metadata": {},
   "outputs": [],
   "source": [
    "#path=[[3, 2], [4, 2], [5, 2], [6, 2], [6, 3]]\n",
    "def route_direction(first_location,second_location):\n",
    "    #按照“十”来看，跟inst_index相同的顺序排1234\n",
    "    x_delta=second_location[0]-first_location[0]\n",
    "    y_delta=second_location[1]-first_location[1]\n",
    "    if(x_delta==1 and y_delta==0):\n",
    "        fir_to_sec=3\n",
    "    elif(x_delta==-1 and y_delta==0):\n",
    "        fir_to_sec=1\n",
    "    elif(x_delta==0 and y_delta==1):\n",
    "        fir_to_sec=4\n",
    "    elif(x_delta==0 and y_delta==-1):\n",
    "        fir_to_sec=2\n",
    "    else:\n",
    "        raise Error(\"Wrong routing strategy: undefined direction -1\")\n",
    "    return fir_to_sec"
   ]
  },
  {
   "cell_type": "code",
   "execution_count": 14,
   "metadata": {},
   "outputs": [
    {
     "name": "stdout",
     "output_type": "stream",
     "text": [
      "[[-5, -4], [-4, -4], [-3, -4], [-2, -4], [-1, -4], [0, -4], [1, -4], [2, -4], [3, -4], [4, -4], [5, -4], [6, -4], [7, -4], [8, -4], [8, -3], [8, -2], [8, -1], [8, 0], [8, 1], [8, 2], [8, 3]]\n",
      "[[[270, 105], 1], [[-135, -90], 2]]\n",
      "cellID=dbOpenCellViewByType(\"ysc_layout\" \"auto_route\" \"layout\" \"maskLayout\" \"w+\")\n",
      "['jtl1j_a_1x1ai1ao4', 'R270', [0, 1]]\n",
      "[-150, -90]\n",
      "dbCreateParamInstByMasterName(cellID \"ysc03_lib\" \"jtl1j_a_1x1ai1ao4\" \"layout\" \"inst1_to_inst2_0\" list(-150 -90) \"R270\")\n",
      "dbCreateParamInstByMasterName(cellID \"ysc03_lib\" \"jtl1j_a_1x1ai1ao3\" \"layout\" \"inst1_to_inst2_1\" list(-120 -120) \"R0\")\n",
      "dbCreateParamInstByMasterName(cellID \"ysc03_lib\" \"jtl1j_a_1x1ai1ao3\" \"layout\" \"inst1_to_inst2_2\" list(-90 -120) \"R0\")\n",
      "dbCreateParamInstByMasterName(cellID \"ysc03_lib\" \"jtl1j_a_1x1ai1ao3\" \"layout\" \"inst1_to_inst2_3\" list(-60 -120) \"R0\")\n",
      "dbCreateParamInstByMasterName(cellID \"ysc03_lib\" \"jtl1j_a_1x1ai1ao3\" \"layout\" \"inst1_to_inst2_4\" list(-30 -120) \"R0\")\n",
      "dbCreateParamInstByMasterName(cellID \"ysc03_lib\" \"jtl1j_a_1x1ai1ao3\" \"layout\" \"inst1_to_inst2_5\" list(0 -120) \"R0\")\n",
      "dbCreateParamInstByMasterName(cellID \"ysc03_lib\" \"jtl1j_a_1x1ai1ao3\" \"layout\" \"inst1_to_inst2_6\" list(30 -120) \"R0\")\n",
      "dbCreateParamInstByMasterName(cellID \"ysc03_lib\" \"jtl1j_a_1x1ai1ao3\" \"layout\" \"inst1_to_inst2_7\" list(60 -120) \"R0\")\n",
      "dbCreateParamInstByMasterName(cellID \"ysc03_lib\" \"jtl1j_a_1x1ai1ao3\" \"layout\" \"inst1_to_inst2_8\" list(90 -120) \"R0\")\n",
      "dbCreateParamInstByMasterName(cellID \"ysc03_lib\" \"jtl1j_a_1x1ai1ao3\" \"layout\" \"inst1_to_inst2_9\" list(120 -120) \"R0\")\n",
      "dbCreateParamInstByMasterName(cellID \"ysc03_lib\" \"jtl1j_a_1x1ai1ao3\" \"layout\" \"inst1_to_inst2_10\" list(150 -120) \"R0\")\n",
      "dbCreateParamInstByMasterName(cellID \"ysc03_lib\" \"jtl1j_a_1x1ai1ao3\" \"layout\" \"inst1_to_inst2_11\" list(180 -120) \"R0\")\n",
      "dbCreateParamInstByMasterName(cellID \"ysc03_lib\" \"jtl1j_a_1x1ai1ao3\" \"layout\" \"inst1_to_inst2_12\" list(210 -120) \"R0\")\n",
      "dbCreateParamInstByMasterName(cellID \"ysc03_lib\" \"jtl1j_a_1x1ai1ao4\" \"layout\" \"inst1_to_inst2_13\" list(240 -120) \"R0\")\n",
      "dbCreateParamInstByMasterName(cellID \"ysc03_lib\" \"jtl1j_a_1x1ai1ao3\" \"layout\" \"inst1_to_inst2_14\" list(270 -90) \"R90\")\n",
      "dbCreateParamInstByMasterName(cellID \"ysc03_lib\" \"jtl1j_a_1x1ai1ao3\" \"layout\" \"inst1_to_inst2_15\" list(270 -60) \"R90\")\n",
      "dbCreateParamInstByMasterName(cellID \"ysc03_lib\" \"jtl1j_a_1x1ai1ao3\" \"layout\" \"inst1_to_inst2_16\" list(270 -30) \"R90\")\n",
      "dbCreateParamInstByMasterName(cellID \"ysc03_lib\" \"jtl1j_a_1x1ai1ao3\" \"layout\" \"inst1_to_inst2_17\" list(270 0) \"R90\")\n",
      "dbCreateParamInstByMasterName(cellID \"ysc03_lib\" \"jtl1j_a_1x1ai1ao3\" \"layout\" \"inst1_to_inst2_18\" list(270 30) \"R90\")\n",
      "dbCreateParamInstByMasterName(cellID \"ysc03_lib\" \"jtl1j_a_1x1ai1ao3\" \"layout\" \"inst1_to_inst2_19\" list(270 60) \"R90\")\n",
      "dbCreateParamInstByMasterName(cellID \"ysc03_lib\" \"jtl1j_a_1x1ai1ao4\" \"layout\" \"inst1_to_inst2_20\" list(240 90) \"MXR90\")\n"
     ]
    }
   ],
   "source": [
    "path=[[-5, -4], [-4, -4], [-3, -4], [-2, -4], [-1, -4], [0, -4], [1, -4], [2, -4], [3, -4], [4, -4], [5, -4], [6, -4], [7, -4], [8, -4], [8, -3], [8, -2], [8, -1], [8, 0], [8, 1], [8, 2], [8, 3]]\n",
    "name=\"inst1_to_inst2\"\n",
    "index=0\n",
    "def path_to_inst(path,coord_info,index,name):\n",
    "    print(path)\n",
    "    print(coord_info)\n",
    "    len_path=len(path)\n",
    "    print(\"cellID=dbOpenCellViewByType(\\\"ysc_layout\\\" \\\"auto_route\\\" \\\"layout\\\" \\\"maskLayout\\\" \\\"w+\\\")\")\n",
    "    #端口to第一个jtl\n",
    "    #print(path[0])\n",
    "    #print(path[1])\n",
    "    first_check=route_direction(path[0],path[1])\n",
    "    check_list=[first_check]\n",
    "    #print(first_check)\n",
    "    #print(coord_info[1][1])\n",
    "    inst_to_first=direction_to_inst(coord_info[1][1],first_check)\n",
    "    print(inst_to_first)\n",
    "    xy_1=[(path[0][0]+inst_to_first[2][0])*30,(path[0][1]+inst_to_first[2][1])*30]\n",
    "    print(xy_1)\n",
    "    first_one=to_dbCreate(inst_to_first[0],\"{0}_{1}\".format(name,index),xy_1,inst_to_first[1])\n",
    "    print(first_one)\n",
    "    for i in range(1,len_path-1):\n",
    "        #print(path[i])\n",
    "        check_index=route_direction(path[i],path[i+1])\n",
    "        #print(check_index)\n",
    "        check_list.append(check_index)\n",
    "        inst_to_line=direction_to_inst(check_list[i-1],check_index)\n",
    "        #print(inst_to_line)\n",
    "        xy_seq=[(path[i][0]+inst_to_line[2][0])*30,(path[i][1]+inst_to_line[2][1])*30]\n",
    "        #print(xy_seq)\n",
    "        create_inst=to_dbCreate(inst_to_line[0],\"{0}_{1}\".format(name,index+i),xy_seq,inst_to_line[1])\n",
    "        print(create_inst)\n",
    "    len_check=len(check_list)\n",
    "    last_check=check_list[len_check-1]\n",
    "    #print(check_list)\n",
    "    #print(first_check)\n",
    "    inst_to_last=direction_to_inst(last_check,last_check_index(coord_info[0][1]))\n",
    "    #print(inst_to_first)\n",
    "    xy_end=[(path[len_path-1][0]+inst_to_last[2][0])*30,(path[len_path-1][1]+inst_to_last[2][1])*30]\n",
    "    last_one=to_dbCreate(inst_to_last[0],\"{0}_{1}\".format(name,index+len_path-1),xy_end,inst_to_last[1])   \n",
    "    print(last_one)\n",
    "path_to_inst(path,coord_info[1],index,name)"
   ]
  },
  {
   "cell_type": "code",
   "execution_count": 15,
   "metadata": {},
   "outputs": [
    {
     "name": "stdout",
     "output_type": "stream",
     "text": [
      "[[9, 5], [8, 5], [9, 4], [8, 4], [9, 3], [8, 3]]\n"
     ]
    }
   ],
   "source": [
    "def origin_to_blockpoint(area,origin,orient):#根据每个SFQmodel的面积，原点，方向，生成一系列在map上的block点（line不能穿过的地方）\n",
    "    if(orient==\"R0\"):\n",
    "        rel_block_point=[]\n",
    "        for i in range(0,area[0]):\n",
    "            for j in range(0,area[1]):\n",
    "                rel_block_point.append([int(origin[0]/30+i),int(origin[1]/30+j)])\n",
    "    elif(orient==\"R90\"):\n",
    "        rel_block_point=[]\n",
    "        for i in range(0,area[0]):\n",
    "            for j in range(0,area[1]):\n",
    "                rel_block_point.append([int((origin[0]-30)/30-j),int(origin[1]/30+i)])\n",
    "    elif(orient==\"R180\"):\n",
    "        rel_block_point=[]\n",
    "        for i in range(0,area[0]):\n",
    "            for j in range(0,area[1]):\n",
    "                rel_block_point.append([int((origin[0]-30)/30-i),int((origin[1]-30)/30-j)])\n",
    "    elif(orient==\"R270\"):\n",
    "        rel_block_point=[]\n",
    "        for i in range(0,area[0]):\n",
    "            for j in range(0,area[1]):\n",
    "                rel_block_point.append([int(origin[0]/30+j),int((origin[1]-30)/30-i)])\n",
    "    elif(orient==\"MX\"):\n",
    "        rel_block_point=[]\n",
    "        for i in range(0,area[0]):\n",
    "            for j in range(0,area[1]):\n",
    "                rel_block_point.append([int(origin[0]/30+i),int((origin[1]-30)/30-j)])\n",
    "    elif(orient==\"MXR90\"):\n",
    "        rel_block_point=[]\n",
    "        for i in range(0,area[0]):\n",
    "            for j in range(0,area[1]):\n",
    "                rel_block_point.append([int(origin[0]/30+j),int(origin[1]/30+i)])\n",
    "    elif(orient==\"MY\"):\n",
    "        rel_block_point=[]\n",
    "        for i in range(0,area[0]):\n",
    "            for j in range(0,area[1]):\n",
    "                rel_block_point.append([int((origin[0]-30)/30-i),int(origin[1]/30+j)])\n",
    "    elif(orient==\"MYR90\"):\n",
    "        rel_block_point=[]\n",
    "        for i in range(0,area[0]):\n",
    "            for j in range(0,area[1]):\n",
    "                rel_block_point.append([int((origin[0]-30)/30-j),int((origin[1]-30)/30-i)])\n",
    "    return rel_block_point\n",
    "test=origin_to_blockpoint([3,2],[270,150],\"MYR90\")\n",
    "print(test)"
   ]
  },
  {
   "cell_type": "code",
   "execution_count": 19,
   "metadata": {},
   "outputs": [
    {
     "name": "stdout",
     "output_type": "stream",
     "text": [
      "[[11, 2], [10, 2], [11, 1], [10, 1], [11, 0], [10, 0]]\n"
     ]
    }
   ],
   "source": [
    "def get_abs_block_point(layout_origin,block_point):\n",
    "    len_block_point=len(block_point)\n",
    "    abs_point=[]\n",
    "    for i in range(0,len_block_point):\n",
    "        #print(block_point[i])\n",
    "        abs_point_temp=[block_point[i][0]-layout_origin[0],block_point[i][1]-layout_origin[1]]\n",
    "        abs_point.append(abs_point_temp)\n",
    "    #print(abs_point)\n",
    "    return abs_point\n",
    "get_abs_block_point([-2,3],test)"
   ]
  },
  {
   "cell_type": "code",
   "execution_count": 18,
   "metadata": {},
   "outputs": [
    {
     "name": "stdout",
     "output_type": "stream",
     "text": [
      "3\n",
      "1\n",
      "[0, 30, 60, 90, 120, 150, 180, 210, 240]\n",
      "[45, 75]\n",
      "3\n",
      "1\n",
      "[0, 30, 60, 90, 120, 150, 180, 210, 240]\n",
      "[]\n"
     ]
    }
   ],
   "source": [
    "#有了A*了好像不太需要这种\n",
    "def create_inst(coord_info):\n",
    "    len_coord_info=len(coord_info)\n",
    "    for i in range(0,len_coord_info):\n",
    "        #print(coord_info[i][0])\n",
    "        #print(coord_info[i][1][0])\n",
    "        start_index=coord_info[i][0][1]\n",
    "        end_index=coord_info[i][1][1]\n",
    "        print(start_index)\n",
    "        print(end_index)\n",
    "        x_length=abs(coord_info[i][0][0][0]-coord_info[i][1][0][0])\n",
    "        y_length=abs(coord_info[i][0][0][1]-coord_info[i][1][0][1])\n",
    "        #print(x_length)\n",
    "        #print(y_length)\n",
    "        x_num=int(x_length/30)\n",
    "        y_num=int(y_length/30)\n",
    "        #print(x_num)\n",
    "        #print(y_num)\n",
    "        abs_x_coord=[]\n",
    "        abs_y_coord=[]\n",
    "        for m in range(0,x_num):\n",
    "            abs_x_coord.append(coord_info[i][0][0][0]+m*30)\n",
    "        for n in range(0,y_num):\n",
    "            abs_y_coord.append(coord_info[i][0][0][1]+n*30)\n",
    "        print(abs_x_coord)\n",
    "        print(abs_y_coord)\n",
    "create_inst(coord_info)"
   ]
  },
  {
   "cell_type": "code",
   "execution_count": 84,
   "metadata": {},
   "outputs": [
    {
     "ename": "TypeError",
     "evalue": "'builtin_function_or_method' object is not subscriptable",
     "output_type": "error",
     "traceback": [
      "\u001b[1;31m---------------------------------------------------------------------------\u001b[0m",
      "\u001b[1;31mTypeError\u001b[0m                                 Traceback (most recent call last)",
      "\u001b[1;32m<ipython-input-84-c74cec3ff3e4>\u001b[0m in \u001b[0;36m<module>\u001b[1;34m\u001b[0m\n\u001b[1;32m----> 1\u001b[1;33m \u001b[0mt\u001b[0m\u001b[1;33m=\u001b[0m\u001b[0mread_layout\u001b[0m\u001b[1;33m(\u001b[0m\u001b[0mdir\u001b[0m\u001b[1;33m)\u001b[0m\u001b[1;33m\u001b[0m\u001b[1;33m\u001b[0m\u001b[0m\n\u001b[0m\u001b[0;32m      2\u001b[0m \u001b[1;31m#print(t[0])\u001b[0m\u001b[1;33m\u001b[0m\u001b[1;33m\u001b[0m\u001b[1;33m\u001b[0m\u001b[0m\n\u001b[0;32m      3\u001b[0m \u001b[1;31m#print(t[4])\u001b[0m\u001b[1;33m\u001b[0m\u001b[1;33m\u001b[0m\u001b[1;33m\u001b[0m\u001b[0m\n\u001b[0;32m      4\u001b[0m \u001b[1;33m\u001b[0m\u001b[0m\n\u001b[0;32m      5\u001b[0m \u001b[0mx_0\u001b[0m\u001b[1;33m=\u001b[0m\u001b[1;33m[\u001b[0m\u001b[0mx\u001b[0m\u001b[1;33m[\u001b[0m\u001b[1;36m0\u001b[0m\u001b[1;33m]\u001b[0m \u001b[1;32mfor\u001b[0m \u001b[0mx\u001b[0m \u001b[1;32min\u001b[0m \u001b[0mt\u001b[0m\u001b[1;33m[\u001b[0m\u001b[1;36m2\u001b[0m\u001b[1;33m]\u001b[0m\u001b[1;33m]\u001b[0m\u001b[1;33m\u001b[0m\u001b[1;33m\u001b[0m\u001b[0m\n",
      "\u001b[1;32m<ipython-input-4-1e75b7ac4aa1>\u001b[0m in \u001b[0;36mread_layout\u001b[1;34m(filename)\u001b[0m\n\u001b[0;32m      3\u001b[0m     \u001b[0morient_info\u001b[0m\u001b[1;33m=\u001b[0m\u001b[1;33m[\u001b[0m\u001b[1;33m]\u001b[0m\u001b[1;31m#方向\u001b[0m\u001b[1;33m\u001b[0m\u001b[1;33m\u001b[0m\u001b[0m\n\u001b[0;32m      4\u001b[0m     \u001b[0minst_name_info\u001b[0m\u001b[1;33m=\u001b[0m\u001b[1;33m[\u001b[0m\u001b[1;33m]\u001b[0m\u001b[1;31m#例化名\u001b[0m\u001b[1;33m\u001b[0m\u001b[1;33m\u001b[0m\u001b[0m\n\u001b[1;32m----> 5\u001b[1;33m     \u001b[1;32mwith\u001b[0m \u001b[0mopen\u001b[0m\u001b[1;33m(\u001b[0m\u001b[0mfilename\u001b[0m\u001b[1;33m[\u001b[0m\u001b[1;36m0\u001b[0m\u001b[1;33m]\u001b[0m\u001b[1;33m)\u001b[0m \u001b[1;32mas\u001b[0m \u001b[0mf\u001b[0m\u001b[1;33m:\u001b[0m\u001b[1;33m\u001b[0m\u001b[1;33m\u001b[0m\u001b[0m\n\u001b[0m\u001b[0;32m      6\u001b[0m         \u001b[1;32mfor\u001b[0m \u001b[0mline\u001b[0m \u001b[1;32min\u001b[0m \u001b[0mf\u001b[0m\u001b[1;33m.\u001b[0m\u001b[0mreadlines\u001b[0m\u001b[1;33m(\u001b[0m\u001b[1;33m)\u001b[0m\u001b[1;33m:\u001b[0m\u001b[1;33m\u001b[0m\u001b[1;33m\u001b[0m\u001b[0m\n\u001b[0;32m      7\u001b[0m             \u001b[0mline\u001b[0m\u001b[1;33m=\u001b[0m\u001b[0mline\u001b[0m\u001b[1;33m.\u001b[0m\u001b[0mrstrip\u001b[0m\u001b[1;33m(\u001b[0m\u001b[1;34m'\\n'\u001b[0m\u001b[1;33m)\u001b[0m\u001b[1;33m\u001b[0m\u001b[1;33m\u001b[0m\u001b[0m\n",
      "\u001b[1;31mTypeError\u001b[0m: 'builtin_function_or_method' object is not subscriptable"
     ]
    }
   ],
   "source": [
    "t=read_layout(file_list)\n",
    "#print(t[0])\n",
    "#print(t[4])\n",
    "\n",
    "x_0=[x[0] for x in t[2]]\n",
    "x_2=[x[2] for x in t[2]]\n",
    "y_1=[y[1] for y in t[2]]\n",
    "y_3=[y[3] for y in t[2]]\n",
    "x_max=max([max(x_0),max(x_2)])\n",
    "y_max=max([max(y_1),max(y_3)])\n",
    "x_min=min([min(x_0),min(x_2)])\n",
    "y_min=min([min(y_1),min(y_3)])"
   ]
  },
  {
   "cell_type": "code",
   "execution_count": 16,
   "metadata": {},
   "outputs": [],
   "source": [
    "import random\n",
    "def randomcolor(): #随机颜色生成器\n",
    "    colorArr = ['1','2','3','4','5','6','7','8','9','A','B','C','D','E','F']\n",
    "    color = \"\"\n",
    "    for i in range(6):\n",
    "        color += colorArr[random.randint(0,14)]\n",
    "    return \"#\"+color"
   ]
  },
  {
   "cell_type": "code",
   "execution_count": 17,
   "metadata": {
    "scrolled": false
   },
   "outputs": [
    {
     "data": {
      "image/png": "[encoded data removed]",
      "text/plain": [
       "<Figure size 1800x1800 with 1 Axes>"
      ]
     },
     "metadata": {
      "needs_background": "light"
     },
     "output_type": "display_data"
    }
   ],
   "source": [
    "import matplotlib.pyplot as plt\n",
    "import matplotlib.patches as patches\n",
    "fig1 = plt.figure(figsize=(10,10),dpi=180)\n",
    "ax1 = fig1.add_subplot(111, aspect='equal')\n",
    "#ax1.add_patch(\n",
    "#    patches.Rectangle(\n",
    "#        (t[2][1][0]/1000, t[2][1][1]/1000),   # (x,y)\n",
    "#        (t[2][1][2]-t[2][1][0])/1000,          # width\n",
    "#        (t[2][1][3]-t[2][1][1])/1000,          # height\n",
    "#    )\n",
    "#)\n",
    "for i in range(0,len(t[2])):\n",
    "    random_color=randomcolor()\n",
    "    ax1.add_patch(\n",
    "        patches.Rectangle(\n",
    "            (t[2][i][0], t[2][i][1]),   # (x,y)\n",
    "            (t[2][i][2]-t[2][i][0]),          # width\n",
    "            (t[2][i][3]-t[2][i][1]),          # height\n",
    "            color=random_color,\n",
    "            fill=False\n",
    "        )\n",
    "    )\n",
    "    #print(t[2][i][3]-t[2][i][1])\n",
    "    #print([t[2][i][0],t[2][i][1]])\n",
    "\n",
    "xlim(-100+x_min,100+x_max)\n",
    "ylim(-100+y_min,100+y_max)\n",
    "\n",
    "#用于传递参数的模块\n",
    "#if(sys.argv[1]==\"on\"):\n",
    "#    plt.show()\n",
    "#else:\n",
    "#    print(\"ploting mode off\")\n",
    "fig1.savefig('rect1.png', dpi=90, bbox_inches='tight')\n",
    "#print((t[2][1][2]-t[2][1][0])/10)"
   ]
  },
  {
   "cell_type": "code",
   "execution_count": null,
   "metadata": {},
   "outputs": [],
   "source": [
    "'''def read_layout(filename):#废弃的读layout模块\n",
    "    layout_info=[]\n",
    "    with open(filename) as f:\n",
    "          for line in f.readlines():\n",
    "                    line=line.rstrip('\\n')\n",
    "                    layout_info.append(line.rstrip('\\n'))\n",
    "    #print(layout_info[0])\n",
    "    instance_info=layout_info[0][1:-1]\n",
    "    instance_info=instance_info.replace(\"\\\"\",\"\")\n",
    "    instance_info=instance_info.split(\" \")\n",
    "    orient_info=layout_info[2][1:-1]\n",
    "    orient_info=orient_info.replace(\"\\\"\",\"\")\n",
    "    orient_info=orient_info.split(\" \")\n",
    "    len_instance=len(instance_info)\n",
    "    len_orient=len(orient_info)\n",
    "    #print(len_instance==len_orient)\n",
    "    #print(instance_info[1])\n",
    "    #print(orient_info[1])\n",
    "    bBox_info_pre=layout_info[1]\n",
    "    bBox_info_pre=bBox_info_pre.replace(\"(\",\"\")\n",
    "    bBox_info_pre=bBox_info_pre.replace(\")\",\"\")\n",
    "    bBox_info_pre=bBox_info_pre.split(\" \")\n",
    "    #print(bBox_info_pre)\n",
    "    len_bBox_pre=len(bBox_info_pre)\n",
    "    #print(len_bBox_pre)\n",
    "    bBox_info=[[] for i in range(int(len_bBox_pre/4))]\n",
    "    for i in range(0,int(len_bBox_pre/4)):\n",
    "        bBox_info[i].append(floor_to_decimal(float(bBox_info_pre[4*i+0])))\n",
    "        bBox_info[i].append(floor_to_decimal(float(bBox_info_pre[4*i+1])))\n",
    "        bBox_info[i].append(floor_to_decimal(float(bBox_info_pre[4*i+2])))\n",
    "        bBox_info[i].append(floor_to_decimal(float(bBox_info_pre[4*i+3])))\n",
    "    #print(bBox_info)\n",
    "    len_bBox=len(bBox_info)\n",
    "    #print(len_bBox)\n",
    "    #print(len_instance)\n",
    "    print(\"三个数据长度是否相等？：\")\n",
    "    print((len_instance==len_orient)&((len_instance==len_bBox)))\n",
    "    #floor_to_decimal(177.2)\n",
    "    return [instance_info, orient_info, bBox_info]'''"
   ]
  },
  {
   "cell_type": "code",
   "execution_count": null,
   "metadata": {},
   "outputs": [],
   "source": []
  }
 ],
 "metadata": {
  "kernelspec": {
   "display_name": "Python 3",
   "language": "python",
   "name": "python3"
  },
  "language_info": {
   "codemirror_mode": {
    "name": "ipython",
    "version": 3
   },
   "file_extension": ".py",
   "mimetype": "text/x-python",
   "name": "python",
   "nbconvert_exporter": "python",
   "pygments_lexer": "ipython3",
   "version": "3.8.3"
  }
 },
 "nbformat": 4,
 "nbformat_minor": 2
}
